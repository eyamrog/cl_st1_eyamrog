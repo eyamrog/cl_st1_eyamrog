{
 "cells": [
  {
   "cell_type": "markdown",
   "id": "810d9f10-ec19-4b09-8f90-e983e460b319",
   "metadata": {},
   "source": [
    "<center>\n",
    "<img src=\"https://laelgelcpublic.s3.sa-east-1.amazonaws.com/lael_50_years_narrow_white.png.no_years.400px_96dpi.png\" width=\"300\" alt=\"LAEL 50 years logo\">\n",
    "<h3>APPLIED LINGUISTICS GRADUATE PROGRAMME (LAEL)</h3>\n",
    "</center>\n",
    "<hr>"
   ]
  },
  {
   "cell_type": "markdown",
   "id": "888c2c96-2fc3-4a1a-995b-c388036a2a15",
   "metadata": {},
   "source": [
    "# Corpus Linguistics - Study 1 - Phase 3_1 - eyamrog"
   ]
  },
  {
   "cell_type": "markdown",
   "id": "4bc807bb-6cbf-4b7c-ae5b-b70cf7fce407",
   "metadata": {},
   "source": [
    "The aim of this phase is to prepare data for testing."
   ]
  },
  {
   "cell_type": "markdown",
   "id": "a685d8b0-7715-45a6-9489-2d3db9b346c8",
   "metadata": {},
   "source": [
    "## Required Python packages"
   ]
  },
  {
   "cell_type": "markdown",
   "id": "c0e16e73-b1b9-4838-8cce-a29dc300868e",
   "metadata": {},
   "source": [
    "- pandas\n",
    "- PyMuPDF\n",
    "- python-docx"
   ]
  },
  {
   "cell_type": "markdown",
   "id": "aa922755-c4d6-4008-9aad-d35e33b18ed7",
   "metadata": {},
   "source": [
    "## Importing the required libraries"
   ]
  },
  {
   "cell_type": "code",
   "execution_count": 1,
   "id": "06ebcaf3-5b41-474c-9394-ebc8bec9005f",
   "metadata": {},
   "outputs": [],
   "source": [
    "import pandas as pd\n",
    "import pymupdf\n",
    "from docx import Document\n",
    "import re\n",
    "import os\n",
    "import sys"
   ]
  },
  {
   "cell_type": "markdown",
   "id": "6bd82a71-ff9c-4e3c-9f7f-f7168a0b7918",
   "metadata": {},
   "source": [
    "## Defining input variables"
   ]
  },
  {
   "cell_type": "code",
   "execution_count": 2,
   "id": "def7520b-1da6-450c-8c74-e424c1ead951",
   "metadata": {},
   "outputs": [],
   "source": [
    "input_directory = 'cl_st1_ph3_eyamrog'\n",
    "output_directory = 'cl_st1_ph31_eyamrog'"
   ]
  },
  {
   "cell_type": "markdown",
   "id": "6621c7d9-1a7b-4ea4-89ff-c3479b468fdc",
   "metadata": {},
   "source": [
    "## Creating output directory"
   ]
  },
  {
   "cell_type": "code",
   "execution_count": 3,
   "id": "cfb8dd16-0676-4e83-8867-0e676890b0c8",
   "metadata": {},
   "outputs": [
    {
     "name": "stdout",
     "output_type": "stream",
     "text": [
      "Output directory successfully created.\n"
     ]
    }
   ],
   "source": [
    "# Check if the output directory already exists. If it does, do nothing. If it doesn't exist, create it.\n",
    "if os.path.exists(output_directory):\n",
    "    print('Output directory already exists.')\n",
    "else:\n",
    "    try:\n",
    "        os.makedirs(output_directory)\n",
    "        print('Output directory successfully created.')\n",
    "    except OSError as e:\n",
    "        print('Failed to create the directory:', e)\n",
    "        sys.exit(1)"
   ]
  },
  {
   "cell_type": "markdown",
   "id": "fc346c15-46b9-4e1d-9fbc-d2c03f146504",
   "metadata": {},
   "source": [
    "## Preparing data for testing"
   ]
  },
  {
   "cell_type": "markdown",
   "id": "98a7f80a-fee0-487f-b313-9543a0ddb014",
   "metadata": {},
   "source": [
    "### Importing the data into a DataFrame"
   ]
  },
  {
   "cell_type": "code",
   "execution_count": 4,
   "id": "3d5e583f-797c-4264-9504-fd82194ce67e",
   "metadata": {},
   "outputs": [],
   "source": [
    "df_scielo_preprint_preChatGPT_en = pd.read_json(f'{input_directory}/scielo_erpp_pp.jsonl', lines=True)"
   ]
  },
  {
   "cell_type": "code",
   "execution_count": 5,
   "id": "fd9ebf24-16df-494f-8641-fb110867b667",
   "metadata": {},
   "outputs": [
    {
     "data": {
      "text/plain": [
       "Title           object\n",
       "URL             object\n",
       "Authors         object\n",
       "Published       object\n",
       "PDF Language    object\n",
       "PDF URL         object\n",
       "Submitted        int64\n",
       "Posted           int64\n",
       "Text ID         object\n",
       "Text            object\n",
       "dtype: object"
      ]
     },
     "execution_count": 5,
     "metadata": {},
     "output_type": "execute_result"
    }
   ],
   "source": [
    "df_scielo_preprint_preChatGPT_en.dtypes"
   ]
  },
  {
   "cell_type": "code",
   "execution_count": 6,
   "id": "fa92a5ed-5739-4d02-b775-4feb7753d099",
   "metadata": {},
   "outputs": [],
   "source": [
    "df_scielo_preprint_preChatGPT_en['Submitted'] = pd.to_datetime(df_scielo_preprint_preChatGPT_en['Submitted'], unit='ms')\n",
    "df_scielo_preprint_preChatGPT_en['Posted'] = pd.to_datetime(df_scielo_preprint_preChatGPT_en['Posted'], unit='ms')"
   ]
  },
  {
   "cell_type": "markdown",
   "id": "92fcc327-4655-4233-90c1-fea8403536b7",
   "metadata": {},
   "source": [
    "### Dropping all texts except the first"
   ]
  },
  {
   "cell_type": "code",
   "execution_count": 7,
   "id": "d1c4ae3e-7e47-443d-bd32-2afb45f7f81a",
   "metadata": {},
   "outputs": [],
   "source": [
    "df_scielo_preprint_preChatGPT_en = df_scielo_preprint_preChatGPT_en.loc[:0]"
   ]
  },
  {
   "cell_type": "code",
   "execution_count": 8,
   "id": "8dd0ed8e-7c82-4d6d-8e8e-ae71dccbbac7",
   "metadata": {},
   "outputs": [
    {
     "data": {
      "text/html": [
       "<div>\n",
       "<style scoped>\n",
       "    .dataframe tbody tr th:only-of-type {\n",
       "        vertical-align: middle;\n",
       "    }\n",
       "\n",
       "    .dataframe tbody tr th {\n",
       "        vertical-align: top;\n",
       "    }\n",
       "\n",
       "    .dataframe thead th {\n",
       "        text-align: right;\n",
       "    }\n",
       "</style>\n",
       "<table border=\"1\" class=\"dataframe\">\n",
       "  <thead>\n",
       "    <tr style=\"text-align: right;\">\n",
       "      <th></th>\n",
       "      <th>Title</th>\n",
       "      <th>URL</th>\n",
       "      <th>Authors</th>\n",
       "      <th>Published</th>\n",
       "      <th>PDF Language</th>\n",
       "      <th>PDF URL</th>\n",
       "      <th>Submitted</th>\n",
       "      <th>Posted</th>\n",
       "      <th>Text ID</th>\n",
       "      <th>Text</th>\n",
       "    </tr>\n",
       "  </thead>\n",
       "  <tbody>\n",
       "    <tr>\n",
       "      <th>0</th>\n",
       "      <td>(Fern flora of Viçosa, Minas Gerais State, Bra...</td>\n",
       "      <td>https://preprints.scielo.org/index.php/scielo/...</td>\n",
       "      <td>Nelson Túlio Lage Pena, Pedro Bond Schwartsburd</td>\n",
       "      <td>Submitted 11/22/2022 - Posted 11/23/2022</td>\n",
       "      <td>PDF</td>\n",
       "      <td>https://preprints.scielo.org/index.php/scielo/...</td>\n",
       "      <td>2022-11-22</td>\n",
       "      <td>2022-11-23</td>\n",
       "      <td>t000000</td>\n",
       "      <td>(Fern flora of Viçosa, Minas Gerais State, Bra...</td>\n",
       "    </tr>\n",
       "  </tbody>\n",
       "</table>\n",
       "</div>"
      ],
      "text/plain": [
       "                                               Title  \\\n",
       "0  (Fern flora of Viçosa, Minas Gerais State, Bra...   \n",
       "\n",
       "                                                 URL  \\\n",
       "0  https://preprints.scielo.org/index.php/scielo/...   \n",
       "\n",
       "                                           Authors  \\\n",
       "0  Nelson Túlio Lage Pena, Pedro Bond Schwartsburd   \n",
       "\n",
       "                                  Published PDF Language  \\\n",
       "0  Submitted 11/22/2022 - Posted 11/23/2022          PDF   \n",
       "\n",
       "                                             PDF URL  Submitted     Posted  \\\n",
       "0  https://preprints.scielo.org/index.php/scielo/... 2022-11-22 2022-11-23   \n",
       "\n",
       "   Text ID                                               Text  \n",
       "0  t000000  (Fern flora of Viçosa, Minas Gerais State, Bra...  "
      ]
     },
     "execution_count": 8,
     "metadata": {},
     "output_type": "execute_result"
    }
   ],
   "source": [
    "df_scielo_preprint_preChatGPT_en"
   ]
  },
  {
   "cell_type": "markdown",
   "id": "d6fd9386-8d2d-4fde-a19b-c524087834fd",
   "metadata": {},
   "source": [
    "### Including `t000001`manually"
   ]
  },
  {
   "cell_type": "markdown",
   "id": "1e7bcc38-114f-44c7-9682-17a1f96061ce",
   "metadata": {},
   "source": [
    "Copy `t000001.pdf` into `output_directory` before running the following cell."
   ]
  },
  {
   "cell_type": "code",
   "execution_count": 9,
   "id": "59ff0f0b-980b-41ff-bbb9-3ae912723a57",
   "metadata": {},
   "outputs": [],
   "source": [
    "def scrape_pdf(pdf_path, output_txt):\n",
    "    # Opening the PDF file\n",
    "    doc = pymupdf.open(pdf_path)\n",
    "    \n",
    "    # Initialising an empty string to store the text\n",
    "    text = ''\n",
    "    \n",
    "    # Iterating through all the pages and extract text\n",
    "    for page in doc:\n",
    "        text += page.get_text()\n",
    "    \n",
    "    # Writing the extracted text to a text file in UTF-8 encoding\n",
    "    with open(output_txt, 'w', encoding='utf-8') as txt_file:\n",
    "        txt_file.write(text)\n",
    "\n",
    "scrape_pdf(f\"{output_directory}/t000001.pdf\", f\"{output_directory}/t000001.txt\")"
   ]
  },
  {
   "cell_type": "markdown",
   "id": "1714802d-351b-4464-80f7-ab705d060381",
   "metadata": {},
   "source": [
    "Edit `t000001.txt` manually to ensure one paragraph per line before running the following cell."
   ]
  },
  {
   "cell_type": "code",
   "execution_count": 10,
   "id": "975136ac-fd75-4e43-80bc-151405ffbc9e",
   "metadata": {},
   "outputs": [],
   "source": [
    "# Function to read the content of a TXT file\n",
    "def read_txt_file(file_path):\n",
    "    with open(file_path, 'r', encoding='utf-8') as file:\n",
    "        return file.read()\n",
    "\n",
    "data = []\n",
    "\n",
    "# Append the data to the list\n",
    "data.append({\n",
    "    'Title': 'Critical Literacies, Meaning Making and New Epistemological Perspectives',\n",
    "    'URL': 'https://revistas.unal.edu.co/index.php/male/article/view/10712/',\n",
    "    'Authors': 'Walkyria Monte Mór',\n",
    "    'Published': 'Submitted 01/01/2008 - Posted 01/01/2008',\n",
    "    'PDF Language': 'PDF',\n",
    "    'PDF URL': 'https://revistas.unal.edu.co/index.php/male/article/view/10712/',\n",
    "    'Submitted': '2008-01-01',\n",
    "    'Posted': '2008-01-01',\n",
    "    'Text ID': 't000001',\n",
    "    'Text': read_txt_file(f\"{output_directory}/t000001.txt\")\n",
    "})\n",
    "\n",
    "# Convert the data list to a DataFrame\n",
    "df_new_row = pd.DataFrame(data)\n",
    "\n",
    "# Append the new row to the existing DataFrame\n",
    "df_scielo_preprint_preChatGPT_en = pd.concat([df_scielo_preprint_preChatGPT_en, df_new_row], ignore_index=True)"
   ]
  },
  {
   "cell_type": "code",
   "execution_count": 11,
   "id": "41386bf3-e497-4263-ba38-c454f03f2ab9",
   "metadata": {},
   "outputs": [
    {
     "data": {
      "text/html": [
       "<div>\n",
       "<style scoped>\n",
       "    .dataframe tbody tr th:only-of-type {\n",
       "        vertical-align: middle;\n",
       "    }\n",
       "\n",
       "    .dataframe tbody tr th {\n",
       "        vertical-align: top;\n",
       "    }\n",
       "\n",
       "    .dataframe thead th {\n",
       "        text-align: right;\n",
       "    }\n",
       "</style>\n",
       "<table border=\"1\" class=\"dataframe\">\n",
       "  <thead>\n",
       "    <tr style=\"text-align: right;\">\n",
       "      <th></th>\n",
       "      <th>Title</th>\n",
       "      <th>URL</th>\n",
       "      <th>Authors</th>\n",
       "      <th>Published</th>\n",
       "      <th>PDF Language</th>\n",
       "      <th>PDF URL</th>\n",
       "      <th>Submitted</th>\n",
       "      <th>Posted</th>\n",
       "      <th>Text ID</th>\n",
       "      <th>Text</th>\n",
       "    </tr>\n",
       "  </thead>\n",
       "  <tbody>\n",
       "    <tr>\n",
       "      <th>0</th>\n",
       "      <td>(Fern flora of Viçosa, Minas Gerais State, Bra...</td>\n",
       "      <td>https://preprints.scielo.org/index.php/scielo/...</td>\n",
       "      <td>Nelson Túlio Lage Pena, Pedro Bond Schwartsburd</td>\n",
       "      <td>Submitted 11/22/2022 - Posted 11/23/2022</td>\n",
       "      <td>PDF</td>\n",
       "      <td>https://preprints.scielo.org/index.php/scielo/...</td>\n",
       "      <td>2022-11-22 00:00:00</td>\n",
       "      <td>2022-11-23 00:00:00</td>\n",
       "      <td>t000000</td>\n",
       "      <td>(Fern flora of Viçosa, Minas Gerais State, Bra...</td>\n",
       "    </tr>\n",
       "    <tr>\n",
       "      <th>1</th>\n",
       "      <td>Critical Literacies, Meaning Making and New Ep...</td>\n",
       "      <td>https://revistas.unal.edu.co/index.php/male/ar...</td>\n",
       "      <td>Walkyria Monte Mór</td>\n",
       "      <td>Submitted 01/01/2008 - Posted 01/01/2008</td>\n",
       "      <td>PDF</td>\n",
       "      <td>https://revistas.unal.edu.co/index.php/male/ar...</td>\n",
       "      <td>2008-01-01</td>\n",
       "      <td>2008-01-01</td>\n",
       "      <td>t000001</td>\n",
       "      <td>This article presents a research analysis in w...</td>\n",
       "    </tr>\n",
       "  </tbody>\n",
       "</table>\n",
       "</div>"
      ],
      "text/plain": [
       "                                               Title  \\\n",
       "0  (Fern flora of Viçosa, Minas Gerais State, Bra...   \n",
       "1  Critical Literacies, Meaning Making and New Ep...   \n",
       "\n",
       "                                                 URL  \\\n",
       "0  https://preprints.scielo.org/index.php/scielo/...   \n",
       "1  https://revistas.unal.edu.co/index.php/male/ar...   \n",
       "\n",
       "                                           Authors  \\\n",
       "0  Nelson Túlio Lage Pena, Pedro Bond Schwartsburd   \n",
       "1                               Walkyria Monte Mór   \n",
       "\n",
       "                                  Published PDF Language  \\\n",
       "0  Submitted 11/22/2022 - Posted 11/23/2022          PDF   \n",
       "1  Submitted 01/01/2008 - Posted 01/01/2008          PDF   \n",
       "\n",
       "                                             PDF URL            Submitted  \\\n",
       "0  https://preprints.scielo.org/index.php/scielo/...  2022-11-22 00:00:00   \n",
       "1  https://revistas.unal.edu.co/index.php/male/ar...           2008-01-01   \n",
       "\n",
       "                Posted  Text ID  \\\n",
       "0  2022-11-23 00:00:00  t000000   \n",
       "1           2008-01-01  t000001   \n",
       "\n",
       "                                                Text  \n",
       "0  (Fern flora of Viçosa, Minas Gerais State, Bra...  \n",
       "1  This article presents a research analysis in w...  "
      ]
     },
     "execution_count": 11,
     "metadata": {},
     "output_type": "execute_result"
    }
   ],
   "source": [
    "df_scielo_preprint_preChatGPT_en"
   ]
  },
  {
   "cell_type": "markdown",
   "id": "9aa0ea25-da7d-4506-908c-797724267423",
   "metadata": {},
   "source": [
    "### Including `t000002`manually"
   ]
  },
  {
   "cell_type": "markdown",
   "id": "16184fb5-34e5-4b64-b124-7510b145085a",
   "metadata": {},
   "source": [
    "Copy `t000002.docx` into `output_directory` before running the following cell."
   ]
  },
  {
   "cell_type": "code",
   "execution_count": 12,
   "id": "1e494f0c-9407-4ae4-a9f5-d46fb6bc3cdc",
   "metadata": {},
   "outputs": [],
   "source": [
    "def scrape_docx(docx_path, output_txt):\n",
    "    # Opening the DOCX file\n",
    "    doc = Document(docx_path)\n",
    "\n",
    "    # Initialising an empty string to store the text\n",
    "    text_list = []\n",
    "\n",
    "    # Iterating through all the paragraphs and extract text\n",
    "    for paragraph in doc.paragraphs:\n",
    "        text_list.append(paragraph.text)\n",
    "\n",
    "    text = '\\n'.join(text_list)\n",
    "    \n",
    "    # Writing the extracted text to a text file in UTF-8 encoding\n",
    "    with open(output_txt, 'w', encoding='utf-8') as txt_file:\n",
    "        txt_file.write(text)\n",
    "\n",
    "scrape_docx(f\"{output_directory}/t000002.docx\", f\"{output_directory}/t000002.txt\")"
   ]
  },
  {
   "cell_type": "markdown",
   "id": "9e42c973-eb6b-4cca-be99-7628b3cfceff",
   "metadata": {},
   "source": [
    "Edit `t000002.txt` manually to ensure one paragraph per line before running the following cell."
   ]
  },
  {
   "cell_type": "code",
   "execution_count": 13,
   "id": "d1fe5e09-04ec-40aa-b724-57c4bb91ee8e",
   "metadata": {},
   "outputs": [],
   "source": [
    "# Function to read the content of a TXT file\n",
    "def read_txt_file(file_path):\n",
    "    with open(file_path, 'r', encoding='utf-8') as file:\n",
    "        return file.read()\n",
    "\n",
    "data = []\n",
    "\n",
    "# Append the data to the list\n",
    "data.append({\n",
    "    'Title': 'THE RELEVANCE OF AI-POWERED TOOLS IN THE ENGLISH ACADEMIC WRITING OF BRAZILIAN SCHOLARS IN APPLIED LINGUISTICS AND IN THE VISUALISATION OF RESEARCH DATA',\n",
    "    'URL': '',\n",
    "    'Authors': 'Rogério Yamada',\n",
    "    'Published': 'Submitted 01/06/2023 - Posted 01/06/2023',\n",
    "    'PDF Language': 'DOCX',\n",
    "    'PDF URL': '',\n",
    "    'Submitted': '2023-06-01',\n",
    "    'Posted': '2023-06-01',\n",
    "    'Text ID': 't000002',\n",
    "    'Text': read_txt_file(f\"{output_directory}/t000002.txt\")\n",
    "})\n",
    "\n",
    "# Convert the data list to a DataFrame\n",
    "df_new_row = pd.DataFrame(data)\n",
    "\n",
    "# Append the new row to the existing DataFrame\n",
    "df_scielo_preprint_preChatGPT_en = pd.concat([df_scielo_preprint_preChatGPT_en, df_new_row], ignore_index=True)"
   ]
  },
  {
   "cell_type": "code",
   "execution_count": 14,
   "id": "e72fdfa3-e4f2-4314-8b1c-08e6b655ecd3",
   "metadata": {},
   "outputs": [],
   "source": [
    "df_scielo_preprint_preChatGPT_en['Submitted'] = pd.to_datetime(df_scielo_preprint_preChatGPT_en['Submitted'])\n",
    "df_scielo_preprint_preChatGPT_en['Posted'] = pd.to_datetime(df_scielo_preprint_preChatGPT_en['Posted'])"
   ]
  },
  {
   "cell_type": "code",
   "execution_count": 15,
   "id": "d6cb7ef3-d578-4a58-8de8-59eef8dd9f71",
   "metadata": {},
   "outputs": [
    {
     "data": {
      "text/html": [
       "<div>\n",
       "<style scoped>\n",
       "    .dataframe tbody tr th:only-of-type {\n",
       "        vertical-align: middle;\n",
       "    }\n",
       "\n",
       "    .dataframe tbody tr th {\n",
       "        vertical-align: top;\n",
       "    }\n",
       "\n",
       "    .dataframe thead th {\n",
       "        text-align: right;\n",
       "    }\n",
       "</style>\n",
       "<table border=\"1\" class=\"dataframe\">\n",
       "  <thead>\n",
       "    <tr style=\"text-align: right;\">\n",
       "      <th></th>\n",
       "      <th>Title</th>\n",
       "      <th>URL</th>\n",
       "      <th>Authors</th>\n",
       "      <th>Published</th>\n",
       "      <th>PDF Language</th>\n",
       "      <th>PDF URL</th>\n",
       "      <th>Submitted</th>\n",
       "      <th>Posted</th>\n",
       "      <th>Text ID</th>\n",
       "      <th>Text</th>\n",
       "    </tr>\n",
       "  </thead>\n",
       "  <tbody>\n",
       "    <tr>\n",
       "      <th>0</th>\n",
       "      <td>(Fern flora of Viçosa, Minas Gerais State, Bra...</td>\n",
       "      <td>https://preprints.scielo.org/index.php/scielo/...</td>\n",
       "      <td>Nelson Túlio Lage Pena, Pedro Bond Schwartsburd</td>\n",
       "      <td>Submitted 11/22/2022 - Posted 11/23/2022</td>\n",
       "      <td>PDF</td>\n",
       "      <td>https://preprints.scielo.org/index.php/scielo/...</td>\n",
       "      <td>2022-11-22</td>\n",
       "      <td>2022-11-23</td>\n",
       "      <td>t000000</td>\n",
       "      <td>(Fern flora of Viçosa, Minas Gerais State, Bra...</td>\n",
       "    </tr>\n",
       "    <tr>\n",
       "      <th>1</th>\n",
       "      <td>Critical Literacies, Meaning Making and New Ep...</td>\n",
       "      <td>https://revistas.unal.edu.co/index.php/male/ar...</td>\n",
       "      <td>Walkyria Monte Mór</td>\n",
       "      <td>Submitted 01/01/2008 - Posted 01/01/2008</td>\n",
       "      <td>PDF</td>\n",
       "      <td>https://revistas.unal.edu.co/index.php/male/ar...</td>\n",
       "      <td>2008-01-01</td>\n",
       "      <td>2008-01-01</td>\n",
       "      <td>t000001</td>\n",
       "      <td>This article presents a research analysis in w...</td>\n",
       "    </tr>\n",
       "    <tr>\n",
       "      <th>2</th>\n",
       "      <td>THE RELEVANCE OF AI-POWERED TOOLS IN THE ENGLI...</td>\n",
       "      <td></td>\n",
       "      <td>Rogério Yamada</td>\n",
       "      <td>Submitted 01/06/2023 - Posted 01/06/2023</td>\n",
       "      <td>DOCX</td>\n",
       "      <td></td>\n",
       "      <td>2023-06-01</td>\n",
       "      <td>2023-06-01</td>\n",
       "      <td>t000002</td>\n",
       "      <td>The recent advent of new-generation Artificial...</td>\n",
       "    </tr>\n",
       "  </tbody>\n",
       "</table>\n",
       "</div>"
      ],
      "text/plain": [
       "                                               Title  \\\n",
       "0  (Fern flora of Viçosa, Minas Gerais State, Bra...   \n",
       "1  Critical Literacies, Meaning Making and New Ep...   \n",
       "2  THE RELEVANCE OF AI-POWERED TOOLS IN THE ENGLI...   \n",
       "\n",
       "                                                 URL  \\\n",
       "0  https://preprints.scielo.org/index.php/scielo/...   \n",
       "1  https://revistas.unal.edu.co/index.php/male/ar...   \n",
       "2                                                      \n",
       "\n",
       "                                           Authors  \\\n",
       "0  Nelson Túlio Lage Pena, Pedro Bond Schwartsburd   \n",
       "1                               Walkyria Monte Mór   \n",
       "2                                   Rogério Yamada   \n",
       "\n",
       "                                  Published PDF Language  \\\n",
       "0  Submitted 11/22/2022 - Posted 11/23/2022          PDF   \n",
       "1  Submitted 01/01/2008 - Posted 01/01/2008          PDF   \n",
       "2  Submitted 01/06/2023 - Posted 01/06/2023         DOCX   \n",
       "\n",
       "                                             PDF URL  Submitted     Posted  \\\n",
       "0  https://preprints.scielo.org/index.php/scielo/... 2022-11-22 2022-11-23   \n",
       "1  https://revistas.unal.edu.co/index.php/male/ar... 2008-01-01 2008-01-01   \n",
       "2                                                    2023-06-01 2023-06-01   \n",
       "\n",
       "   Text ID                                               Text  \n",
       "0  t000000  (Fern flora of Viçosa, Minas Gerais State, Bra...  \n",
       "1  t000001  This article presents a research analysis in w...  \n",
       "2  t000002  The recent advent of new-generation Artificial...  "
      ]
     },
     "execution_count": 15,
     "metadata": {},
     "output_type": "execute_result"
    }
   ],
   "source": [
    "df_scielo_preprint_preChatGPT_en"
   ]
  },
  {
   "cell_type": "markdown",
   "id": "8daebc28-430f-4990-8205-9e999dab8c33",
   "metadata": {},
   "source": [
    "### Exporting to a file"
   ]
  },
  {
   "cell_type": "code",
   "execution_count": 16,
   "id": "142ed787-55e7-4825-8fc6-1d957d8e863d",
   "metadata": {},
   "outputs": [],
   "source": [
    "df_scielo_preprint_preChatGPT_en.to_json(f\"{output_directory}/test_erpp_pp.jsonl\", orient='records', lines=True)"
   ]
  },
  {
   "cell_type": "code",
   "execution_count": null,
   "id": "2361d46e-5c1b-4eac-b7be-878830323075",
   "metadata": {},
   "outputs": [],
   "source": []
  }
 ],
 "metadata": {
  "kernelspec": {
   "display_name": "Python 3 (ipykernel)",
   "language": "python",
   "name": "python3"
  },
  "language_info": {
   "codemirror_mode": {
    "name": "ipython",
    "version": 3
   },
   "file_extension": ".py",
   "mimetype": "text/x-python",
   "name": "python",
   "nbconvert_exporter": "python",
   "pygments_lexer": "ipython3",
   "version": "3.10.12"
  }
 },
 "nbformat": 4,
 "nbformat_minor": 5
}
